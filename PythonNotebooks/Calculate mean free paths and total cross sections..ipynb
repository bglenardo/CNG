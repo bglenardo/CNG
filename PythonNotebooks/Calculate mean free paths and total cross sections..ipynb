{
 "metadata": {
  "name": "",
  "signature": "sha256:f69ba2789b83a306a33ee9990f40158f8a797e1e028f1bfabeccc17dedc9131d"
 },
 "nbformat": 3,
 "nbformat_minor": 0,
 "worksheets": [
  {
   "cells": [
    {
     "cell_type": "markdown",
     "metadata": {},
     "source": [
      "This notebook will be my attempts to calculate mean free paths and total cross sections relevant to the attenuation of the compact neutron generator."
     ]
    }
   ],
   "metadata": {}
  }
 ]
}